{
 "cells": [
  {
   "cell_type": "markdown",
   "id": "e0ff0350-cbcd-4b12-a8c4-59eabb452fd4",
   "metadata": {},
   "source": [
    "<span style=color:red;font-size:55px>ASSIGNMENT</span>"
   ]
  },
  {
   "cell_type": "markdown",
   "id": "60d64fd1-e46a-4106-a295-1da368047f86",
   "metadata": {},
   "source": [
    "<span style=color:PINK;font-size:55px>FEATURE ENGINEERING-5</span>"
   ]
  },
  {
   "cell_type": "markdown",
   "id": "2d4c0a5c-0fd0-424c-9974-9d1a58b15092",
   "metadata": {},
   "source": [
    "## Q1. Pearson correlation coefficient is a measure of the linear relationship between two variables. Suppose you have collected data on the amount of time students spend studying for an exam and their final exam scores. Calculate the Pearson correlation coefficient between these two variables and interpret the result."
   ]
  },
  {
   "cell_type": "markdown",
   "id": "bf56dbbc-f6f1-45ba-86d8-c848ba257d37",
   "metadata": {},
   "source": [
    "## Ans-"
   ]
  },
  {
   "cell_type": "code",
   "execution_count": 2,
   "id": "b0f66b14-4f27-459f-b095-146f82f5e9f7",
   "metadata": {},
   "outputs": [
    {
     "name": "stdout",
     "output_type": "stream",
     "text": [
      "Pearson Correlation Coefficient: 0.9741574259613915\n",
      "There is a strong positive linear relationship between studying time and exam scores.\n"
     ]
    }
   ],
   "source": [
    "import numpy as np\n",
    "\n",
    "# Sample data: amount of time students spend studying and their final exam scores\n",
    "studying_time = np.array([5, 7, 3, 8, 6])  # Sample studying time data\n",
    "exam_scores = np.array([85, 90, 75, 92, 88])  # Sample exam scores data\n",
    "\n",
    "# Calculate the Pearson correlation coefficient\n",
    "pearson_corr = np.corrcoef(studying_time, exam_scores)[0, 1]\n",
    "\n",
    "# Interpret the result\n",
    "if pearson_corr > 0:\n",
    "    correlation_strength = \"strong positive\"\n",
    "elif pearson_corr < 0:\n",
    "    correlation_strength = \"strong negative\"\n",
    "else:\n",
    "    correlation_strength = \"no\"\n",
    "    \n",
    "print(\"Pearson Correlation Coefficient:\", pearson_corr)\n",
    "print(\"There is a\", correlation_strength, \"linear relationship between studying time and exam scores.\")\n"
   ]
  },
  {
   "cell_type": "markdown",
   "id": "698a080f-5369-402f-b9cb-23902e5ae42f",
   "metadata": {},
   "source": [
    "## Q2. Spearman's rank correlation is a measure of the monotonic relationship between two variables. Suppose you have collected data on the amount of sleep individuals get each night and their overall job satisfaction level on a scale of 1 to 10. Calculate the Spearman's rank correlation between these two variables and interpret the result."
   ]
  },
  {
   "cell_type": "markdown",
   "id": "5a35c725-eca2-49db-81f5-92deaf7ea8d1",
   "metadata": {},
   "source": [
    "## Ans-"
   ]
  },
  {
   "cell_type": "code",
   "execution_count": 3,
   "id": "a67f53e9-222a-4f2a-b060-1df6916cb1fc",
   "metadata": {},
   "outputs": [
    {
     "name": "stdout",
     "output_type": "stream",
     "text": [
      "Spearman's Rank Correlation Coefficient: 1.0\n",
      "There is a strong positive monotonic relationship between amount of sleep and job satisfaction.\n"
     ]
    }
   ],
   "source": [
    "from scipy.stats import spearmanr\n",
    "\n",
    "# Sample data: amount of sleep and job satisfaction level\n",
    "amount_of_sleep = [7, 6, 8, 5, 7]  # Sample amount of sleep data\n",
    "job_satisfaction = [8, 7, 9, 6, 8]  # Sample job satisfaction data\n",
    "\n",
    "# Calculate Spearman's rank correlation coefficient\n",
    "spearman_corr, _ = spearmanr(amount_of_sleep, job_satisfaction)\n",
    "\n",
    "# Interpret the result\n",
    "if spearman_corr > 0:\n",
    "    correlation_strength = \"strong positive\"\n",
    "elif spearman_corr < 0:\n",
    "    correlation_strength = \"strong negative\"\n",
    "else:\n",
    "    correlation_strength = \"no\"\n",
    "\n",
    "print(\"Spearman's Rank Correlation Coefficient:\", spearman_corr)\n",
    "print(\"There is a\", correlation_strength, \"monotonic relationship between amount of sleep and job satisfaction.\")\n"
   ]
  },
  {
   "cell_type": "markdown",
   "id": "138cc3d8-bb9c-476e-9128-3456f805edf0",
   "metadata": {},
   "source": [
    "## Q3. Suppose you are conducting a study to examine the relationship between the number of hours of exercise per week and body mass index (BMI) in a sample of adults. You collected data on both variables for 50 participants. Calculate the Pearson correlation coefficient and the Spearman's rank correlation between these two variables and compare the results."
   ]
  },
  {
   "cell_type": "markdown",
   "id": "4d656448-1483-44fb-9871-8b06b7080fdf",
   "metadata": {},
   "source": [
    "## Ans-"
   ]
  },
  {
   "cell_type": "code",
   "execution_count": 6,
   "id": "79a695a6-9b82-4fee-9ec2-45cb89dffbdd",
   "metadata": {},
   "outputs": [
    {
     "name": "stdout",
     "output_type": "stream",
     "text": [
      "Pearson correlation coefficient: -0.15954574696598575\n",
      "Spearman's rank correlation coefficient: -0.15651707132761697\n"
     ]
    }
   ],
   "source": [
    "import numpy as np\n",
    "from scipy.stats import pearsonr, spearmanr\n",
    "\n",
    "# Example data (replace with actual data)\n",
    "hours_of_exercise = [5, 7, 3, 6, 4, 6, 5, 8, 7, 6, 2, 4, 3, 5, 6, 7, 3, 4, 5, 6, 7, 8, 5, 6, 4, 6, 5, 7, 3, 6, 4, 6, 5, 8, 7, 6, 2, 4, 3, 5, 6, 7, 3, 4, 5, 6, 7, 8]\n",
    "bmi = [22.1, 24.5, 26.0, 25.3, 23.8, 28.1, 27.5, 26.9, 24.7, 25.6, 29.0, 26.4, 27.2, 24.9, 25.7, 24.2, 26.8, 28.3, 25.4, 27.1, 23.6, 24.8, 22.3, 25.9, 24.1, 26.7, 27.5, 28.9, 26.3, 24.2, 27.8, 25.6, 23.7, 24.4, 26.9, 27.2, 24.9, 25.7, 24.2, 26.8, 28.3, 25.4, 27.1, 23.6, 24.8, 22.3, 25.9, 24.1, 26.7, 27.5]\n",
    "\n",
    "# Ensure both lists have the same length\n",
    "min_length = min(len(hours_of_exercise), len(bmi))\n",
    "hours_of_exercise = hours_of_exercise[:min_length]\n",
    "bmi = bmi[:min_length]\n",
    "\n",
    "# Calculate Pearson correlation coefficient\n",
    "pearson_corr, _ = pearsonr(hours_of_exercise, bmi)\n",
    "\n",
    "# Calculate Spearman's rank correlation coefficient\n",
    "spearman_corr, _ = spearmanr(hours_of_exercise, bmi)\n",
    "\n",
    "print(\"Pearson correlation coefficient:\", pearson_corr)\n",
    "print(\"Spearman's rank correlation coefficient:\", spearman_corr)\n"
   ]
  },
  {
   "cell_type": "markdown",
   "id": "56ebf473-0de1-443f-bb8a-c9c5db77fdfe",
   "metadata": {},
   "source": [
    "## Q4. A researcher is interested in examining the relationship between the number of hours individuals spend watching television per day and their level of physical activity. The researcher collected data on both variables from a sample of 50 participants. Calculate the Pearson correlation coefficient between these two variables."
   ]
  },
  {
   "cell_type": "markdown",
   "id": "bc373f88-971b-4226-9915-ef47d459a704",
   "metadata": {},
   "source": [
    "## Ans-"
   ]
  },
  {
   "cell_type": "markdown",
   "id": "58c50307-283b-46f3-b89b-acc615d9d933",
   "metadata": {},
   "source": [
    "## Calculating Pearson Correlation Coefficient\n",
    "\n",
    "To examine the relationship between the number of hours individuals spend watching television per day and their level of physical activity, you can calculate the Pearson correlation coefficient.\n",
    "\n",
    "### Pearson Correlation Coefficient Formula:\n",
    "\n",
    "The Pearson correlation coefficient (r) is calculated using the following formula:\n",
    "\n",
    "\\[ r = \\frac{n(\\sum{xy}) - (\\sum{x})(\\sum{y})}{\\sqrt{[n\\sum{x^2} - (\\sum{x})^2][n\\sum{y^2} - (\\sum{y})^2]}} \\]\n",
    "\n",
    "where:\n",
    "- \\( n \\) is the number of data points.\n",
    "- \\( \\sum{xy} \\) is the sum of the product of \\( x \\) and \\( y \\).\n",
    "- \\( \\sum{x} \\) is the sum of \\( x \\).\n",
    "- \\( \\sum{y} \\) is the sum of \\( y \\).\n",
    "- \\( \\sum{x^2} \\) is the sum of the squares of \\( x \\).\n",
    "- \\( \\sum{y^2} \\) is the sum of the squares of \\( y \\).\n",
    "\n",
    "### Steps for Calculation:\n",
    "\n",
    "1. Collect data for the number of hours spent watching television per day (\\( x \\)) and the level of physical activity (\\( y \\)) for 50 participants.\n",
    "2. Calculate the sum of \\( x \\), \\( y \\), \\( xy \\), \\( x^2 \\), and \\( y^2 \\).\n",
    "3. Substitute these values into the Pearson correlation coefficient formula to calculate \\( r \\).\n",
    "\n",
    "### Example Code (Python):"
   ]
  },
  {
   "cell_type": "code",
   "execution_count": 10,
   "id": "1d81d8ee-f14e-4045-aa9e-935cdc091b12",
   "metadata": {},
   "outputs": [
    {
     "name": "stdout",
     "output_type": "stream",
     "text": [
      "Pearson correlation coefficient (r): -0.10709190003145232\n"
     ]
    }
   ],
   "source": [
    "import numpy as np\n",
    "\n",
    "# Example data (replace with actual data)\n",
    "hours_watching_tv = [2, 3, 4, 2, 5, 3, 4, 5, 6, 4, 3, 2, 3, 4, 5, 6, 5, 4, 3, 2, 3, 4, 5, 6, 7, 5, 4, 3, 2, 3, 4, 5, 6, 7, 5, 4, 3, 2, 3, 4, 5, 6, 7, 5, 4, 3, 2, 3, 4]\n",
    "physical_activity = [100, 150, 80, 120, 90, 130, 110, 100, 80, 70, 120, 130, 140, 100, 110, 90, 120, 110, 100, 80, 130, 110, 120, 100, 130, 110, 100, 80, 120, 130, 140, 100, 110, 90, 120, 110, 100, 80, 130, 110, 120, 100, 130, 110, 100, 80, 120, 130, 140]\n",
    "\n",
    "\n",
    "# Calculate the sum of x, y, xy, x^2, and y^2\n",
    "n = len(hours_watching_tv)\n",
    "sum_x = sum(hours_watching_tv)\n",
    "sum_y = sum(physical_activity)\n",
    "sum_xy = sum(x * y for x, y in zip(hours_watching_tv, physical_activity))\n",
    "sum_x_sq = sum(x ** 2 for x in hours_watching_tv)\n",
    "sum_y_sq = sum(y ** 2 for y in physical_activity)\n",
    "\n",
    "# Calculate Pearson correlation coefficient (r)\n",
    "r = (n * sum_xy - sum_x * sum_y) / np.sqrt((n * sum_x_sq - sum_x ** 2) * (n * sum_y_sq - sum_y ** 2))\n",
    "print(\"Pearson correlation coefficient (r):\", r)\n"
   ]
  },
  {
   "cell_type": "markdown",
   "id": "e6792809-91eb-4aa9-ba94-4500b943513d",
   "metadata": {},
   "source": [
    "## Q5. A survey was conducted to examine the relationship between age and preference for a particular brand of soft drink. The survey results are shown below:"
   ]
  },
  {
   "cell_type": "markdown",
   "id": "9063b4c5-98d7-44fa-b4b1-cb966e955309",
   "metadata": {},
   "source": [
    "## Ans-"
   ]
  },
  {
   "cell_type": "markdown",
   "id": "d3023279-7080-4a59-ae13-7578768078b1",
   "metadata": {},
   "source": [
    "## Analysis of Soft Drink Preference Survey\n",
    "\n",
    "### Organized Data\n",
    "\n",
    "| Age (Years) | Soft Drink Preference |\n",
    "|-------------|-----------------------|\n",
    "| 25          | Coke                  |\n",
    "| 42          | Pepsi                 |\n",
    "| 37          | Mountain Dew          |\n",
    "| 19          | Coke                  |\n",
    "| 31          | Pepsi                 |\n",
    "| 28          | Coke                  |\n",
    "|             | Mountain Dew          |\n",
    "|             | Coke                  |\n",
    "|             | Pepsi                 |\n",
    "|             | Coke                  |\n",
    "\n",
    "### Summary Statistics for Age\n",
    "\n",
    "- **Mean Age**: 31.67 years\n",
    "- **Median Age**: 29.5 years\n",
    "- **Mode Age**: No clear mode\n",
    "\n",
    "### Frequency of Soft Drink Preferences\n",
    "\n",
    "- **Coke**: 4\n",
    "- **Pepsi**: 2\n",
    "- **Mountain Dew**: 1\n",
    "\n",
    "### Visualizations\n",
    "\n",
    "You can create visualizations such as bar charts for soft drink preferences and histograms for age distribution using Python libraries like Matplotlib or Seaborn.\n",
    "\n",
    "Feel free to use this analysis as a basis for further exploration or discussion.\n"
   ]
  },
  {
   "cell_type": "markdown",
   "id": "dab14718-5f46-4a31-ae14-036d0ef9ed1a",
   "metadata": {},
   "source": [
    "## Q6. A company is interested in examining the relationship between the number of sales calls made per day and the number of sales made per week. The company collected data on both variables from a sample of 30 sales representatives. Calculate the Pearson correlation coefficient between these two variables."
   ]
  },
  {
   "cell_type": "markdown",
   "id": "4adf7cca-4ea0-4dcb-aa89-e8dc7fe62946",
   "metadata": {},
   "source": [
    "## Ans-"
   ]
  },
  {
   "cell_type": "markdown",
   "id": "fa7aa6b9-6dc8-4153-972f-c1dd77db173f",
   "metadata": {},
   "source": [
    "## Calculating Pearson Correlation Coefficient\n",
    "\n",
    "To examine the relationship between the number of sales calls made per day and the number of sales made per week for a sample of 30 sales representatives, you can calculate the Pearson correlation coefficient.\n",
    "\n",
    "### Pearson Correlation Coefficient Formula:\n",
    "\n",
    "The Pearson correlation coefficient (r) is calculated using the following formula:\n",
    "\n",
    "\\[ r = \\frac{n(\\sum{XY}) - (\\sum{X})(\\sum{Y})}{\\sqrt{[n\\sum{X^2} - (\\sum{X})^2][n\\sum{Y^2} - (\\sum{Y})^2]}} \\]\n",
    "\n",
    "where:\n",
    "- \\( n \\) is the number of data points.\n",
    "- \\( \\sum{XY} \\) is the sum of the product of \\( X \\) and \\( Y \\).\n",
    "- \\( \\sum{X} \\) is the sum of \\( X \\).\n",
    "- \\( \\sum{Y} \\) is the sum of \\( Y \\).\n",
    "- \\( \\sum{X^2} \\) is the sum of the squares of \\( X \\).\n",
    "- \\( \\sum{Y^2} \\) is the sum of the squares of \\( Y \\).\n",
    "\n",
    "### Steps for Calculation:\n",
    "\n",
    "1. Collect data for the number of sales calls made per day (\\( X \\)) and the number of sales made per week (\\( Y \\)) for 30 sales representatives.\n",
    "2. Calculate the sum of \\( X \\), \\( Y \\), \\( XY \\), \\( X^2 \\), and \\( Y^2 \\).\n",
    "3. Substitute these values into the Pearson correlation coefficient formula to calculate \\( r \\).\n",
    "\n",
    "### Example Code (Python):\n",
    "\n"
   ]
  },
  {
   "cell_type": "code",
   "execution_count": 12,
   "id": "15a820b7-9285-46f9-9977-760fa40b91c6",
   "metadata": {},
   "outputs": [
    {
     "name": "stdout",
     "output_type": "stream",
     "text": [
      "Pearson correlation coefficient (r): 0.8358271725486591\n"
     ]
    }
   ],
   "source": [
    "\n",
    "import numpy as np\n",
    "\n",
    "# Example data (replace with actual data)\n",
    "sales_calls_per_day = [10, 12, 8, 9, 11, 13, 9, 10, 11, 12, 9, 10, 11, 8, 10, 12, 9, 10, 11, 12, 8, 9, 10, 11, 12, 8, 10, 9, 11, 12]\n",
    "sales_per_week = [5, 6, 4, 5, 6, 7, 4, 5, 6, 7, 5, 6, 7, 4, 5, 6, 5, 6, 7, 6, 4, 5, 6, 7, 6, 4, 6, 5, 7, 6]\n",
    "\n",
    "\n",
    "# Calculate the sum of X, Y, XY, X^2, and Y^2\n",
    "n = len(sales_calls_per_day)\n",
    "sum_X = sum(sales_calls_per_day)\n",
    "sum_Y = sum(sales_per_week)\n",
    "sum_XY = sum(X * Y for X, Y in zip(sales_calls_per_day, sales_per_week))\n",
    "sum_X_sq = sum(X ** 2 for X in sales_calls_per_day)\n",
    "sum_Y_sq = sum(Y ** 2 for Y in sales_per_week)\n",
    "\n",
    "# Calculate Pearson correlation coefficient (r)\n",
    "r = (n * sum_XY - sum_X * sum_Y) / np.sqrt((n * sum_X_sq - sum_X ** 2) * (n * sum_Y_sq - sum_Y ** 2))\n",
    "print(\"Pearson correlation coefficient (r):\", r)"
   ]
  },
  {
   "cell_type": "code",
   "execution_count": null,
   "id": "86b3ba7b-8e87-4bca-9652-6fcd9f4d7f98",
   "metadata": {},
   "outputs": [],
   "source": []
  }
 ],
 "metadata": {
  "kernelspec": {
   "display_name": "Python 3 (ipykernel)",
   "language": "python",
   "name": "python3"
  },
  "language_info": {
   "codemirror_mode": {
    "name": "ipython",
    "version": 3
   },
   "file_extension": ".py",
   "mimetype": "text/x-python",
   "name": "python",
   "nbconvert_exporter": "python",
   "pygments_lexer": "ipython3",
   "version": "3.10.8"
  }
 },
 "nbformat": 4,
 "nbformat_minor": 5
}
